{
  "nbformat": 4,
  "nbformat_minor": 0,
  "metadata": {
    "colab": {
      "provenance": [],
      "authorship_tag": "ABX9TyOiVBxwmblMZkklDRqynsK9",
      "include_colab_link": true
    },
    "kernelspec": {
      "name": "python3",
      "display_name": "Python 3"
    },
    "language_info": {
      "name": "python"
    }
  },
  "cells": [
    {
      "cell_type": "markdown",
      "metadata": {
        "id": "view-in-github",
        "colab_type": "text"
      },
      "source": [
        "<a href=\"https://colab.research.google.com/github/MH-Mubin/Exercises-for-Data-Analytics/blob/main/Untitled0.ipynb\" target=\"_parent\"><img src=\"https://colab.research.google.com/assets/colab-badge.svg\" alt=\"Open In Colab\"/></a>"
      ]
    },
    {
      "cell_type": "code",
      "source": [
        "import numpy as np\n",
        "import matplotlib.pyplot as plt\n",
        "import statistics\n",
        "import pandas as pd\n",
        "import scipy.stats as stats\n",
        "\n",
        "age=[2,3,4,6,7,8,9,1,12,13,14,15,16,17,5,10,30,20,39,40,19,18,27]\n",
        "#to find the mean\n",
        "mean= statistics.mean(age)\n",
        "print(\"The mean is:\", mean)\n",
        "#to find the median\n",
        "median=statistics.median(age)\n",
        "print(\"The median is:\", median)\n",
        "#to find the mode\n",
        "mode=statistics.mode(age)\n",
        "print(\"The mode is:\", mode)\n",
        "#to find the Zscore\n",
        "zscore=stats.zscore(age)\n",
        "print(\"The Z-score are:\", zscore)\n",
        "#to find the standard daviation\n",
        "data=np.array(age)\n",
        "sd=np.std(data)\n",
        "print(\"The Standard Daviation is:\", sd)\n",
        "#to find the histogram\n",
        "plt.hist(age, bins='auto')\n",
        "plt.show()"
      ],
      "metadata": {
        "colab": {
          "base_uri": "https://localhost:8080/",
          "height": 569
        },
        "id": "YE4R0KbujvQ_",
        "outputId": "47af159d-a1c2-4a88-d66f-c121044a0f1a"
      },
      "execution_count": 10,
      "outputs": [
        {
          "output_type": "stream",
          "name": "stdout",
          "text": [
            "The mean is: 14.565217391304348\n",
            "The median is: 13\n",
            "The mode is: 2\n",
            "The Z-score are: [-1.17736768 -1.08366714 -0.98996659 -0.80256551 -0.70886497 -0.61516443\n",
            " -0.52146389 -1.27106822 -0.24036226 -0.14666172 -0.05296118  0.04073937\n",
            "  0.13443991  0.22814045 -0.89626605 -0.42776334  1.44624749  0.50924208\n",
            "  2.28955237  2.38325291  0.41554153  0.32184099  1.16514587]\n",
            "10.672296875786154\n"
          ]
        },
        {
          "output_type": "display_data",
          "data": {
            "text/plain": [
              "<Figure size 640x480 with 1 Axes>"
            ],
            "image/png": "[encoded data removed]"
          },
          "metadata": {}
        }
      ]
    }
  ]
}